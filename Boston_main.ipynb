{
 "cells": [
  {
   "cell_type": "code",
   "execution_count": 1,
   "metadata": {},
   "outputs": [
    {
     "name": "stdout",
     "output_type": "stream",
     "text": [
      "importing Jupyter notebook from Boston_visuals.ipynb\n"
     ]
    }
   ],
   "source": [
    "# Import libraries necessary for this project\n",
    "import numpy as np\n",
    "import pandas as pd\n",
    "from sklearn.model_selection import ShuffleSplit\n",
    "\n",
    "# Import supplementary visualizations code Boston_visuals.ipynb\n",
    "import import_ipynb\n",
    "import Boston_visuals as vs\n"
   ]
  },
  {
   "cell_type": "code",
   "execution_count": 2,
   "metadata": {},
   "outputs": [
    {
     "name": "stdout",
     "output_type": "stream",
     "text": [
      "Boston housing dataset has 489 data points with 4 variables each.\n",
      "Statistics for Boston housing dataset:\n",
      "\n",
      "Minimum price: $105,000.00\n",
      "Maximum price: $1,024,800.00\n",
      "Mean price: $454,342.94\n",
      "Median price $438,900.00\n",
      "Standard deviation of prices: $165,171.13\n"
     ]
    }
   ],
   "source": [
    "# Load the Boston housing dataset\n",
    "data = pd.read_csv('Datasets/housing.csv')\n",
    "prices = data['MEDV']\n",
    "features = data.drop('MEDV', axis = 1)\n",
    "    \n",
    "# Success\n",
    "print(\"Boston housing dataset has {} data points with {} variables each.\".format(*data.shape))\n",
    "\n",
    "# Using numpy where possible as requested by the question, though this is sweeter using pandas directly.\n",
    "\n",
    "# Minimum price of the data.  Can also do prices.min()\n",
    "minimum_price = np.amin(prices)\n",
    "\n",
    "# Maximum price of the data.  Can also do prices.max()\n",
    "maximum_price = np.amax(prices)\n",
    "\n",
    "# Mean price of the data.  Can also do prices.mean()\n",
    "mean_price = np.mean(prices)\n",
    "\n",
    "# Median price of the data.  Can also do prices.median()\n",
    "median_price = np.median(prices)\n",
    "\n",
    "# Standard deviation of prices of the data.  Can also do prices.std()\n",
    "std_price = np.std(prices)\n",
    "\n",
    "# Show the calculated statistics\n",
    "print(\"Statistics for Boston housing dataset:\\n\")\n",
    "print (\"Minimum price: ${:,.2f}\".format(minimum_price))\n",
    "print (\"Maximum price: ${:,.2f}\".format(maximum_price))\n",
    "print (\"Mean price: ${:,.2f}\".format(mean_price))\n",
    "print (\"Median price ${:,.2f}\".format(median_price))\n",
    "print (\"Standard deviation of prices: ${:,.2f}\".format(std_price))\n"
   ]
  },
  {
   "cell_type": "code",
   "execution_count": 3,
   "metadata": {},
   "outputs": [
    {
     "name": "stdout",
     "output_type": "stream",
     "text": [
      "Model has a coefficient of determination, R^2, of 0.923.\n",
      "Training and testing split was successful.\n"
     ]
    }
   ],
   "source": [
    "\n",
    "# Import 'r2_score'\n",
    "from sklearn.metrics import r2_score\n",
    "\n",
    "def performance_metric(y_true, y_predict):\n",
    "    \"\"\" Calculates and returns the performance score between \n",
    "        true and predicted values based on the metric chosen. \"\"\"\n",
    "    #print(y_true)\n",
    "    #print(y_predict)\n",
    "    # Calculate the performance score between 'y_true' and 'y_predict'\n",
    "    score = r2_score(y_true, y_predict)\n",
    "    \n",
    "    # Return the score\n",
    "    return score\n",
    "\n",
    "# Calculate the performance of this model\n",
    "score = performance_metric([3, -0.5, 2, 7, 4.2], [2.5, 0.0, 2.1, 7.8, 5.3])\n",
    "print(\"Model has a coefficient of determination, R^2, of {:.3f}.\".format(score))\n",
    "\n",
    "# Import 'train_test_split'\n",
    "from sklearn.model_selection import train_test_split\n",
    "\n",
    "# Shuffle and split the data into training and testing subsets\n",
    "\n",
    "X_train, X_test, y_train, y_test = train_test_split(features, prices, test_size=0.2, random_state=0)\n",
    "\n",
    "# Success\n",
    "print(\"Training and testing split was successful.\")\n",
    "\n"
   ]
  },
  {
   "cell_type": "code",
   "execution_count": 4,
   "metadata": {},
   "outputs": [
    {
     "name": "stdout",
     "output_type": "stream",
     "text": [
      "Parameter 'max_depth' is 4 for the optimal model.\n"
     ]
    }
   ],
   "source": [
    "\n",
    "# Import 'make_scorer', 'DecisionTreeRegressor', and 'GridSearchCV'\n",
    "from sklearn.metrics import make_scorer\n",
    "from sklearn.tree import DecisionTreeRegressor\n",
    "from sklearn.model_selection import GridSearchCV\n",
    "\n",
    "def fit_model(X, y):\n",
    "    \"\"\" Performs grid search over the 'max_depth' parameter for a \n",
    "        decision tree regressor trained on the input data [X, y]. \"\"\"\n",
    "    \n",
    "    # Create cross-validation sets from the training data\n",
    "    cv_sets = ShuffleSplit(n_splits=10, test_size = 0.20, random_state = 0)\n",
    "    \n",
    "    # Create a decision tree regressor object\n",
    "    regressor = DecisionTreeRegressor()\n",
    "\n",
    "    # Create a dictionary for the parameter 'max_depth' with a range from 1 to 10\n",
    "    params = {'max_depth' : (1,2,3,4,5,6,7,8,9,10)}\n",
    "\n",
    "\n",
    "    # Transform 'performance_metric' into a scoring function using 'make_scorer' \n",
    "    scoring_fnc = make_scorer(performance_metric)\n",
    "\n",
    "    # Create the grid search object\n",
    "    grid = GridSearchCV(regressor, params, scoring=scoring_fnc, cv=cv_sets)\n",
    "\n",
    "    # Fit the grid search object to the data to compute the optimal model\n",
    "    grid = grid.fit(X, y)\n",
    "\n",
    "    # Return the optimal model after fitting the data\n",
    "    return grid.best_estimator_\n",
    "\n",
    "# Fit the training data to the model using grid search\n",
    "reg = fit_model(X_train, y_train)\n",
    "\n",
    "# Produce the value for 'max_depth'\n",
    "print(\"Parameter 'max_depth' is {} for the optimal model.\".format(reg.get_params()['max_depth']))\n"
   ]
  },
  {
   "cell_type": "code",
   "execution_count": 5,
   "metadata": {},
   "outputs": [
    {
     "name": "stdout",
     "output_type": "stream",
     "text": [
      "For Client 1 \n",
      " Total number of rooms in house : 5\n",
      "For Client 2 \n",
      " Total number of rooms in house : 4\n",
      "For Client 3 \n",
      " Total number of rooms in house : 8\n",
      "For Client 1 \n",
      " Neighborhood poverty level (as %) : 17\n",
      "For Client 2 \n",
      " Neighborhood poverty level (as %) : 32\n",
      "For Client 3 \n",
      " Neighborhood poverty level (as %) : 3\n",
      "For Client 1 \n",
      " Student-teacher ratio of nearby schools : 15\n",
      "For Client 2 \n",
      " Student-teacher ratio of nearby schools : 22\n",
      "For Client 3 \n",
      " Student-teacher ratio of nearby schools : 12\n",
      "Predicted selling price for Client 1's home: $436,065.00\n",
      "Predicted selling price for Client 2's home: $324,240.00\n",
      "Predicted selling price for Client 3's home: $324,240.00\n",
      "Press Enter to continue\n"
     ]
    },
    {
     "data": {
      "image/png": "[encoded data removed]",
      "text/plain": [
       "<Figure size 504x360 with 1 Axes>"
      ]
     },
     "metadata": {
      "needs_background": "light"
     },
     "output_type": "display_data"
    }
   ],
   "source": [
    "c11 = input('For Client 1 \\n Total number of rooms in house : ')\n",
    "c21 = input('For Client 2 \\n Total number of rooms in house : ')\n",
    "c31 = input('For Client 3 \\n Total number of rooms in house : ')\n",
    "\n",
    "c12 = input('For Client 1 \\n Neighborhood poverty level (as %) : ')\n",
    "c22 = input('For Client 2 \\n Neighborhood poverty level (as %) : ')\n",
    "c32 = input('For Client 3 \\n Neighborhood poverty level (as %) : ')\n",
    "\n",
    "c13 = input('For Client 1 \\n Student-teacher ratio of nearby schools : ')\n",
    "c23 = input('For Client 2 \\n Student-teacher ratio of nearby schools : ')\n",
    "c33 = input('For Client 3 \\n Student-teacher ratio of nearby schools : ')\n",
    "\n",
    "# Produce a matrix for client data\n",
    "#client_data = [[5, 17, 15], # Client 1\n",
    "               #[4, 32, 22], # Client 2\n",
    "               #[8, 3, 12]]  # Client 3\n",
    "\n",
    "client_data = [[c11, c21, c31], # Client 1\n",
    "               [c12, c22, c32], # Client 2\n",
    "               [c13, c23, c33]]  # Client 3\n",
    "\n",
    "\n",
    "# Show predictions\n",
    "for i, price in enumerate(reg.predict(client_data)):\n",
    "    print(\"Predicted selling price for Client {}'s home: ${:,.2f}\".format(i+1, price))\n",
    "input(\"Press Enter to continue\")\n",
    "#Complexity Check\n",
    "vs.ModelComplexity(X_train, y_train)"
   ]
  },
  {
   "cell_type": "markdown",
   "metadata": {},
   "source": []
  }
 ],
 "metadata": {
  "kernelspec": {
   "display_name": "Python 3",
   "language": "python",
   "name": "python3"
  },
  "language_info": {
   "codemirror_mode": {
    "name": "ipython",
    "version": 3
   },
   "file_extension": ".py",
   "mimetype": "text/x-python",
   "name": "python",
   "nbconvert_exporter": "python",
   "pygments_lexer": "ipython3",
   "version": "3.7.1"
  }
 },
 "nbformat": 4,
 "nbformat_minor": 2
}
